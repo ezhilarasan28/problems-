{
 "cells": [
  {
   "cell_type": "markdown",
   "id": "5af806e5",
   "metadata": {},
   "source": [
    "## print 1 to 10 tables using python "
   ]
  },
  {
   "cell_type": "code",
   "execution_count": 1,
   "id": "a21e43f0",
   "metadata": {},
   "outputs": [],
   "source": [
    "# 1st table "
   ]
  },
  {
   "cell_type": "code",
   "execution_count": 5,
   "id": "b52f8605",
   "metadata": {},
   "outputs": [
    {
     "name": "stdout",
     "output_type": "stream",
     "text": [
      "1x 1 = 1\n",
      "1x 2 = 2\n",
      "1x 3 = 3\n",
      "1x 4 = 4\n",
      "1x 5 = 5\n",
      "1x 6 = 6\n",
      "1x 7 = 7\n",
      "1x 8 = 8\n",
      "1x 9 = 9\n",
      "1x 10 = 10\n"
     ]
    }
   ],
   "source": [
    "for i in range(1,11):\n",
    "    print(\"1x\",i,'=',1*i)"
   ]
  },
  {
   "cell_type": "code",
   "execution_count": 6,
   "id": "01d4809b",
   "metadata": {},
   "outputs": [
    {
     "name": "stdout",
     "output_type": "stream",
     "text": [
      "2x 1 = 2\n",
      "2x 2 = 4\n",
      "2x 3 = 6\n",
      "2x 4 = 8\n",
      "2x 5 = 10\n",
      "2x 6 = 12\n",
      "2x 7 = 14\n",
      "2x 8 = 16\n",
      "2x 9 = 18\n",
      "2x 10 = 20\n"
     ]
    }
   ],
   "source": [
    "# 2nd table \n",
    "for j in range(1,11):\n",
    "    print(\"2x\",j,'=',2*j)"
   ]
  },
  {
   "cell_type": "code",
   "execution_count": 7,
   "id": "5e8ca324",
   "metadata": {},
   "outputs": [
    {
     "name": "stdout",
     "output_type": "stream",
     "text": [
      "3x 1 = 3\n",
      "3x 2 = 6\n",
      "3x 3 = 9\n",
      "3x 4 = 12\n",
      "3x 5 = 15\n",
      "3x 6 = 18\n",
      "3x 7 = 21\n",
      "3x 8 = 24\n",
      "3x 9 = 27\n",
      "3x 10 = 30\n"
     ]
    }
   ],
   "source": [
    "# 3rd table \n",
    "for i in range(1,11):\n",
    "    print(\"3x\",i,'=',3*i)"
   ]
  },
  {
   "cell_type": "code",
   "execution_count": 8,
   "id": "cebdf786",
   "metadata": {},
   "outputs": [
    {
     "name": "stdout",
     "output_type": "stream",
     "text": [
      "4x 1 = 4\n",
      "4x 2 = 8\n",
      "4x 3 = 12\n",
      "4x 4 = 16\n",
      "4x 5 = 20\n",
      "4x 6 = 24\n",
      "4x 7 = 28\n",
      "4x 8 = 32\n",
      "4x 9 = 36\n",
      "4x 10 = 40\n"
     ]
    }
   ],
   "source": [
    "# 4th table \n",
    "for i in range(1,11):\n",
    "    print(\"4x\",i,'=',4*i)"
   ]
  },
  {
   "cell_type": "code",
   "execution_count": 9,
   "id": "55b1276d",
   "metadata": {},
   "outputs": [
    {
     "name": "stdout",
     "output_type": "stream",
     "text": [
      "5x 1 = 5\n",
      "5x 2 = 10\n",
      "5x 3 = 15\n",
      "5x 4 = 20\n",
      "5x 5 = 25\n",
      "5x 6 = 30\n",
      "5x 7 = 35\n",
      "5x 8 = 40\n",
      "5x 9 = 45\n",
      "5x 10 = 50\n"
     ]
    }
   ],
   "source": [
    "# 5th table \n",
    "for i in range(1,11):\n",
    "    print(\"5x\",i,'=',5*i)"
   ]
  },
  {
   "cell_type": "code",
   "execution_count": 10,
   "id": "31aa9da5",
   "metadata": {},
   "outputs": [
    {
     "name": "stdout",
     "output_type": "stream",
     "text": [
      "6x 1 = 6\n",
      "6x 2 = 12\n",
      "6x 3 = 18\n",
      "6x 4 = 24\n",
      "6x 5 = 30\n",
      "6x 6 = 36\n",
      "6x 7 = 42\n",
      "6x 8 = 48\n",
      "6x 9 = 54\n",
      "6x 10 = 60\n"
     ]
    }
   ],
   "source": [
    "# 6th table \n",
    "for i in range(1,11):\n",
    "    print(\"6x\",i,'=',6*i)"
   ]
  },
  {
   "cell_type": "code",
   "execution_count": 11,
   "id": "c8819d10",
   "metadata": {},
   "outputs": [
    {
     "name": "stdout",
     "output_type": "stream",
     "text": [
      "7x 1 = 7\n",
      "7x 2 = 14\n",
      "7x 3 = 21\n",
      "7x 4 = 28\n",
      "7x 5 = 35\n",
      "7x 6 = 42\n",
      "7x 7 = 49\n",
      "7x 8 = 56\n",
      "7x 9 = 63\n",
      "7x 10 = 70\n"
     ]
    }
   ],
   "source": [
    "#7th table \n",
    "for i in range(1,11):\n",
    "    print(\"7x\",i,'=',7*i)"
   ]
  },
  {
   "cell_type": "code",
   "execution_count": 12,
   "id": "22cf1b56",
   "metadata": {},
   "outputs": [
    {
     "name": "stdout",
     "output_type": "stream",
     "text": [
      "8x 1 = 8\n",
      "8x 2 = 16\n",
      "8x 3 = 24\n",
      "8x 4 = 32\n",
      "8x 5 = 40\n",
      "8x 6 = 48\n",
      "8x 7 = 56\n",
      "8x 8 = 64\n",
      "8x 9 = 72\n",
      "8x 10 = 80\n"
     ]
    }
   ],
   "source": [
    "#8th table \n",
    "for i in range(1,11):\n",
    "    print(\"8x\",i,'=',8*i)"
   ]
  },
  {
   "cell_type": "code",
   "execution_count": 13,
   "id": "ec5fa9ae",
   "metadata": {},
   "outputs": [
    {
     "name": "stdout",
     "output_type": "stream",
     "text": [
      "9x 1 = 9\n",
      "9x 2 = 18\n",
      "9x 3 = 27\n",
      "9x 4 = 36\n",
      "9x 5 = 45\n",
      "9x 6 = 54\n",
      "9x 7 = 63\n",
      "9x 8 = 72\n",
      "9x 9 = 81\n",
      "9x 10 = 90\n"
     ]
    }
   ],
   "source": [
    "#9th table \n",
    "for i in range(1,11):\n",
    "    print(\"9x\",i,'=',9*i)"
   ]
  },
  {
   "cell_type": "code",
   "execution_count": 14,
   "id": "33b69c89",
   "metadata": {},
   "outputs": [
    {
     "name": "stdout",
     "output_type": "stream",
     "text": [
      "10x 1 = 10\n",
      "10x 2 = 20\n",
      "10x 3 = 30\n",
      "10x 4 = 40\n",
      "10x 5 = 50\n",
      "10x 6 = 60\n",
      "10x 7 = 70\n",
      "10x 8 = 80\n",
      "10x 9 = 90\n",
      "10x 10 = 100\n"
     ]
    }
   ],
   "source": [
    "#10th table \n",
    "for i in range(1,11):\n",
    "    print(\"10x\",i,'=',10*i)"
   ]
  },
  {
   "cell_type": "code",
   "execution_count": null,
   "id": "155e03ab",
   "metadata": {},
   "outputs": [],
   "source": []
  }
 ],
 "metadata": {
  "kernelspec": {
   "display_name": "Python 3 (ipykernel)",
   "language": "python",
   "name": "python3"
  },
  "language_info": {
   "codemirror_mode": {
    "name": "ipython",
    "version": 3
   },
   "file_extension": ".py",
   "mimetype": "text/x-python",
   "name": "python",
   "nbconvert_exporter": "python",
   "pygments_lexer": "ipython3",
   "version": "3.11.4"
  }
 },
 "nbformat": 4,
 "nbformat_minor": 5
}
